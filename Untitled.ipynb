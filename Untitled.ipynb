{
 "cells": [
  {
   "cell_type": "code",
   "execution_count": 23,
   "metadata": {},
   "outputs": [],
   "source": [
    "#from sklearn.model_selection import cross_validate\n",
    "from sklearn import svm, neighbors\n",
    "from sklearn.ensemble import VotingClassifier, RandomForestClassifier\n",
    "from sklearn.model_selection import train_test_split\n",
    "from collections import Counter\n",
    "import pandas as pd\n",
    "import matplotlib.pyplot as plt\n",
    "from matplotlib import style\n",
    "import numpy as np\n",
    "import pandas_datareader.data as web\n",
    "import datetime as dt\n",
    "import sklearn\n",
    "from mpl_finance import candlestick_ohlc #changed module from matplotlib to mpl_finance\n",
    "import matplotlib.dates as mdates\n",
    "import bs4 as bs\n",
    "import urllib.request as urlb\n",
    "import pickle\n",
    "import requests\n",
    "import os\n",
    "import time\n",
    "#import mpld3\n",
    "%matplotlib notebook\n",
    "\n",
    "#mpld3.enable_notebook()\n",
    "style.use('ggplot')"
   ]
  },
  {
   "cell_type": "code",
   "execution_count": null,
   "metadata": {},
   "outputs": [],
   "source": []
  },
  {
   "cell_type": "code",
   "execution_count": null,
   "metadata": {},
   "outputs": [],
   "source": []
  }
 ],
 "metadata": {
  "kernelspec": {
   "display_name": "Python 3",
   "language": "python",
   "name": "python3"
  },
  "language_info": {
   "codemirror_mode": {
    "name": "ipython",
    "version": 3
   },
   "file_extension": ".py",
   "mimetype": "text/x-python",
   "name": "python",
   "nbconvert_exporter": "python",
   "pygments_lexer": "ipython3",
   "version": "3.6.4"
  }
 },
 "nbformat": 4,
 "nbformat_minor": 2
}
